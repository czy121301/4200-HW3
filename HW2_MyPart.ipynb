{
 "cells": [
  {
   "cell_type": "markdown",
   "metadata": {},
   "source": [
    "Given the representation of Driving force, we may form an equation from Eqn(17) considering only the real part of all the complex variables.\n",
    "$$\\frac{d^2x}{dt^2}+\\frac{kx}{m} = \\frac{F}{m}=\\frac{F_0}{m}\\cos(\\omega t) \\tag{29}$$"
   ]
  },
  {
   "cell_type": "markdown",
   "metadata": {},
   "source": [
    "Naively, let's assume there is such a thing as a complex force and a complex displacement (though there isn't), and obtain a complex ordinary differential equation (ODE)\n",
    "\n",
    "$$\\frac{d^2(x_r-ix_i)}{dt^2}+\\frac{k(x_r-ix_i)}{m} = \\frac{(F_r-iF_i)}{m}\\tag{30}$$\n",
    "\n",
    "where the subsript $r$, $i$ denotes the real and imaginary part of the complex variables, respectively.  "
   ]
  },
  {
   "cell_type": "markdown",
   "metadata": {},
   "source": [
    "If we re-orgonize the equation in the following way:\n",
    "\n",
    "$$\\\[F(t) = F_0 cos(\omega t)\]}$$"
   ]
  },
  {
   "cell_type": "markdown",
   "metadata": {},
   "source": [
    "and specify the restoring force to be proportial to $-kx^2$, it can be noticed that $F_r = x_r^2 - x_i^2$ and $F_i = 2 x_r x_i$, and we need to solve two different real ODEs, which adds complexity to the problem.  "
   ]
  },
  {
   "cell_type": "markdown",
   "metadata": {},
   "source": [
    "It seems easier to solve an ODE in the complex realm. By rewritting eqn(30) in a more compact way, we have:\n",
    "\n",
    "$$\\frac{d^2\\hat{x}}{dt^2}+\\frac{k\\hat{x}}{m} = \\frac{\\widehat{F_0}}{m}e^{i\\omega t}\\tag{32}$$\n",
    "\n",
    "where the sign $\\hat{}$ suggests the variables are complex."
   ]
  },
  {
   "cell_type": "markdown",
   "metadata": {},
   "source": [
    "Since the driving force is a periodic function, it would be a natural guess for us to choose an initial guess of the solution as:\n",
    "\n",
    "$$x = \\hat{x}e^{i\\omega t}\\tag{33}$$\n",
    "\n",
    "which has the same period as the driving force. We maintain the factor $\\hat{x}$ and $\\hat{F_0}$ without loss of gerneality."
   ]
  },
  {
   "cell_type": "markdown",
   "metadata": {},
   "source": [
    "By substituting it into Eqn(32), the factor $e^{i \\omega t}$ cancels out on both sides:\n",
    "\n",
    "$$(i\\omega)^2\\hat{x}+(k\\hat{x}/m)=\\widehat{F}/m \\tag{34}$$"
   ]
  },
  {
   "cell_type": "markdown",
   "metadata": {},
   "source": [
    "The relation between $\\hat{x}$ and $\\hat{F}$ therefore is \n",
    "\n",
    "$$\\hat{x}=\\frac{\\widehat{F}/m}{(k/m)-\\omega^2} \\tag{35}$$"
   ]
  },
  {
   "cell_type": "markdown",
   "metadata": {},
   "source": [
    "Recall that in the free oscillator, the frequency $\\omega_0 = \\sqrt{k/m}$, which is intrinsic to the system. Using this denotation we have:\n",
    "\n",
    "$$\\hat{x}=\\frac{\\widehat{F}/m}{\\omega_0^2-\\omega^2} \\tag{36}$$"
   ]
  },
  {
   "cell_type": "code",
   "execution_count": null,
   "metadata": {
    "collapsed": true
   },
   "outputs": [],
   "source": []
  }
 ],
 "metadata": {
  "kernelspec": {
   "display_name": "Python 2",
   "language": "python",
   "name": "python2"
  },
  "language_info": {
   "codemirror_mode": {
    "name": "ipython",
    "version": 2
   },
   "file_extension": ".py",
   "mimetype": "text/x-python",
   "name": "python",
   "nbconvert_exporter": "python",
   "pygments_lexer": "ipython2",
   "version": "2.7.13"
  }
 },
 "nbformat": 4,
 "nbformat_minor": 2
}

